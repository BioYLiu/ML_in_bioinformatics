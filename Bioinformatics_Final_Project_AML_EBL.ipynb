{
 "cells": [
  {
   "cell_type": "code",
   "execution_count": 1,
   "metadata": {},
   "outputs": [],
   "source": [
    "import pandas as pd\n",
    "import matplotlib.pyplot as plt\n",
    "import numpy as np\n",
    "from sklearn import model_selection\n",
    "from sklearn.metrics import classification_report\n",
    "from sklearn.metrics import confusion_matrix\n",
    "from sklearn.metrics import accuracy_score\n",
    "from sklearn.linear_model import LogisticRegression\n",
    "from sklearn.tree import DecisionTreeClassifier\n",
    "from sklearn.neighbors import KNeighborsClassifier\n",
    "from sklearn.discriminant_analysis import LinearDiscriminantAnalysis\n",
    "from sklearn.naive_bayes import GaussianNB\n",
    "from sklearn.svm import SVC"
   ]
  },
  {
   "cell_type": "code",
   "execution_count": 2,
   "metadata": {},
   "outputs": [
    {
     "name": "stderr",
     "output_type": "stream",
     "text": [
      "C:\\Users\\Emma Jane\\Anaconda3\\lib\\site-packages\\IPython\\core\\interactiveshell.py:2698: DtypeWarning: Columns (15,39) have mixed types. Specify dtype option on import or set low_memory=False.\n",
      "  interactivity=interactivity, compiler=compiler, result=result)\n"
     ]
    }
   ],
   "source": [
    "# read data file\n",
    "AML_data = pd.read_csv(\"AML_assay_clinical.csv\")\n",
    "AML_data = AML_data.replace('Unknown', np.float('nan'))\n",
    "columns = ['Comment','Refractory Timepoint sent for Induction Failure Project', 'data_type','updated_datetime','file_name', 'submitter_id','file_id',\n",
    "           'file_size','id','created_datetime','md5sum','data_format','access','state','data_category','type','experimental_strategy',\n",
    "           'project.project_id','entity_id','case_id','entity_submitter_id', 'entity_type']\n",
    "AML_data.drop(columns, inplace=True, axis=1)"
   ]
  },
  {
   "cell_type": "code",
   "execution_count": 3,
   "metadata": {},
   "outputs": [
    {
     "data": {
      "text/html": [
       "<div>\n",
       "<style>\n",
       "    .dataframe thead tr:only-child th {\n",
       "        text-align: right;\n",
       "    }\n",
       "\n",
       "    .dataframe thead th {\n",
       "        text-align: left;\n",
       "    }\n",
       "\n",
       "    .dataframe tbody tr th {\n",
       "        vertical-align: top;\n",
       "    }\n",
       "</style>\n",
       "<table border=\"1\" class=\"dataframe\">\n",
       "  <thead>\n",
       "    <tr style=\"text-align: right;\">\n",
       "      <th></th>\n",
       "      <th>Unnamed: 0</th>\n",
       "      <th>TARGET USI</th>\n",
       "      <th>Diagnostic ID</th>\n",
       "      <th>Gender</th>\n",
       "      <th>Race</th>\n",
       "      <th>Ethnicity</th>\n",
       "      <th>Age at Diagnosis in Days</th>\n",
       "      <th>First Event</th>\n",
       "      <th>Event Free Survival Time in Days</th>\n",
       "      <th>Vital Status</th>\n",
       "      <th>...</th>\n",
       "      <th>ENSG00000281649.1</th>\n",
       "      <th>ENSG00000281691.1</th>\n",
       "      <th>ENSG00000281706.1</th>\n",
       "      <th>ENSG00000281741.1</th>\n",
       "      <th>ENSG00000281789.1</th>\n",
       "      <th>ENSG00000281896.1</th>\n",
       "      <th>ENSG00000281912.1</th>\n",
       "      <th>__no_feature</th>\n",
       "      <th>__ambiguous</th>\n",
       "      <th>__alignment_not_unique</th>\n",
       "    </tr>\n",
       "  </thead>\n",
       "  <tbody>\n",
       "    <tr>\n",
       "      <th>0</th>\n",
       "      <td>0</td>\n",
       "      <td>TARGET-20-PABLDZ</td>\n",
       "      <td>04A</td>\n",
       "      <td>Female</td>\n",
       "      <td>White</td>\n",
       "      <td>Not Hispanic or Latino</td>\n",
       "      <td>2455</td>\n",
       "      <td>Relapse</td>\n",
       "      <td>714</td>\n",
       "      <td>Alive</td>\n",
       "      <td>...</td>\n",
       "      <td>5.486997</td>\n",
       "      <td>-0.834782</td>\n",
       "      <td>-1.296158</td>\n",
       "      <td>-5.407333</td>\n",
       "      <td>-0.256885</td>\n",
       "      <td>1.024227</td>\n",
       "      <td>-3.844758</td>\n",
       "      <td>17.53958</td>\n",
       "      <td>15.68347</td>\n",
       "      <td>18.76896</td>\n",
       "    </tr>\n",
       "    <tr>\n",
       "      <th>1</th>\n",
       "      <td>1</td>\n",
       "      <td>TARGET-20-PADYIR</td>\n",
       "      <td>04A</td>\n",
       "      <td>Male</td>\n",
       "      <td>White</td>\n",
       "      <td>Not Hispanic or Latino</td>\n",
       "      <td>1159</td>\n",
       "      <td>Relapse</td>\n",
       "      <td>373</td>\n",
       "      <td>Dead</td>\n",
       "      <td>...</td>\n",
       "      <td>5.981757</td>\n",
       "      <td>0.545861</td>\n",
       "      <td>-2.077616</td>\n",
       "      <td>-1.572028</td>\n",
       "      <td>-2.077616</td>\n",
       "      <td>2.026762</td>\n",
       "      <td>-2.342754</td>\n",
       "      <td>16.88417</td>\n",
       "      <td>14.59825</td>\n",
       "      <td>18.32622</td>\n",
       "    </tr>\n",
       "    <tr>\n",
       "      <th>2</th>\n",
       "      <td>2</td>\n",
       "      <td>TARGET-20-PADYIR</td>\n",
       "      <td>09A</td>\n",
       "      <td>Male</td>\n",
       "      <td>White</td>\n",
       "      <td>Not Hispanic or Latino</td>\n",
       "      <td>1159</td>\n",
       "      <td>Relapse</td>\n",
       "      <td>373</td>\n",
       "      <td>Dead</td>\n",
       "      <td>...</td>\n",
       "      <td>6.877301</td>\n",
       "      <td>1.096532</td>\n",
       "      <td>-2.710611</td>\n",
       "      <td>-1.947448</td>\n",
       "      <td>-1.421239</td>\n",
       "      <td>2.485413</td>\n",
       "      <td>-2.448536</td>\n",
       "      <td>17.55232</td>\n",
       "      <td>14.80745</td>\n",
       "      <td>17.93863</td>\n",
       "    </tr>\n",
       "    <tr>\n",
       "      <th>3</th>\n",
       "      <td>3</td>\n",
       "      <td>TARGET-20-PADZCG</td>\n",
       "      <td>09A</td>\n",
       "      <td>Female</td>\n",
       "      <td>NaN</td>\n",
       "      <td>Not Hispanic or Latino</td>\n",
       "      <td>5325</td>\n",
       "      <td>Relapse</td>\n",
       "      <td>314</td>\n",
       "      <td>Dead</td>\n",
       "      <td>...</td>\n",
       "      <td>5.465605</td>\n",
       "      <td>-0.330849</td>\n",
       "      <td>-1.843229</td>\n",
       "      <td>-0.801464</td>\n",
       "      <td>-0.364707</td>\n",
       "      <td>2.164604</td>\n",
       "      <td>-0.152689</td>\n",
       "      <td>17.12435</td>\n",
       "      <td>14.60608</td>\n",
       "      <td>17.85268</td>\n",
       "    </tr>\n",
       "    <tr>\n",
       "      <th>4</th>\n",
       "      <td>4</td>\n",
       "      <td>TARGET-20-PADZCG</td>\n",
       "      <td>04A</td>\n",
       "      <td>Female</td>\n",
       "      <td>NaN</td>\n",
       "      <td>Not Hispanic or Latino</td>\n",
       "      <td>5325</td>\n",
       "      <td>Relapse</td>\n",
       "      <td>314</td>\n",
       "      <td>Dead</td>\n",
       "      <td>...</td>\n",
       "      <td>4.989745</td>\n",
       "      <td>1.008904</td>\n",
       "      <td>-2.298227</td>\n",
       "      <td>-1.264844</td>\n",
       "      <td>0.362001</td>\n",
       "      <td>2.474975</td>\n",
       "      <td>-1.534493</td>\n",
       "      <td>17.47790</td>\n",
       "      <td>14.67804</td>\n",
       "      <td>18.92434</td>\n",
       "    </tr>\n",
       "  </tbody>\n",
       "</table>\n",
       "<p>5 rows × 21470 columns</p>\n",
       "</div>"
      ],
      "text/plain": [
       "   Unnamed: 0        TARGET USI Diagnostic ID  Gender   Race  \\\n",
       "0           0  TARGET-20-PABLDZ           04A  Female  White   \n",
       "1           1  TARGET-20-PADYIR           04A    Male  White   \n",
       "2           2  TARGET-20-PADYIR           09A    Male  White   \n",
       "3           3  TARGET-20-PADZCG           09A  Female    NaN   \n",
       "4           4  TARGET-20-PADZCG           04A  Female    NaN   \n",
       "\n",
       "                Ethnicity  Age at Diagnosis in Days First Event  \\\n",
       "0  Not Hispanic or Latino                      2455     Relapse   \n",
       "1  Not Hispanic or Latino                      1159     Relapse   \n",
       "2  Not Hispanic or Latino                      1159     Relapse   \n",
       "3  Not Hispanic or Latino                      5325     Relapse   \n",
       "4  Not Hispanic or Latino                      5325     Relapse   \n",
       "\n",
       "   Event Free Survival Time in Days Vital Status          ...            \\\n",
       "0                               714        Alive          ...             \n",
       "1                               373         Dead          ...             \n",
       "2                               373         Dead          ...             \n",
       "3                               314         Dead          ...             \n",
       "4                               314         Dead          ...             \n",
       "\n",
       "   ENSG00000281649.1  ENSG00000281691.1  ENSG00000281706.1 ENSG00000281741.1  \\\n",
       "0           5.486997          -0.834782          -1.296158         -5.407333   \n",
       "1           5.981757           0.545861          -2.077616         -1.572028   \n",
       "2           6.877301           1.096532          -2.710611         -1.947448   \n",
       "3           5.465605          -0.330849          -1.843229         -0.801464   \n",
       "4           4.989745           1.008904          -2.298227         -1.264844   \n",
       "\n",
       "   ENSG00000281789.1 ENSG00000281896.1  ENSG00000281912.1 __no_feature  \\\n",
       "0          -0.256885          1.024227          -3.844758     17.53958   \n",
       "1          -2.077616          2.026762          -2.342754     16.88417   \n",
       "2          -1.421239          2.485413          -2.448536     17.55232   \n",
       "3          -0.364707          2.164604          -0.152689     17.12435   \n",
       "4           0.362001          2.474975          -1.534493     17.47790   \n",
       "\n",
       "  __ambiguous __alignment_not_unique  \n",
       "0    15.68347               18.76896  \n",
       "1    14.59825               18.32622  \n",
       "2    14.80745               17.93863  \n",
       "3    14.60608               17.85268  \n",
       "4    14.67804               18.92434  \n",
       "\n",
       "[5 rows x 21470 columns]"
      ]
     },
     "execution_count": 3,
     "metadata": {},
     "output_type": "execute_result"
    }
   ],
   "source": [
    "AML_data.head()"
   ]
  },
  {
   "cell_type": "code",
   "execution_count": 4,
   "metadata": {},
   "outputs": [
    {
     "data": {
      "text/plain": [
       "(187, 21470)"
      ]
     },
     "execution_count": 4,
     "metadata": {},
     "output_type": "execute_result"
    }
   ],
   "source": [
    "# show dimensions of AML_data\n",
    "AML_data.shape"
   ]
  },
  {
   "cell_type": "code",
   "execution_count": 5,
   "metadata": {},
   "outputs": [],
   "source": [
    "object_data = AML_data.describe(include=['object'])\n",
    "cols = list(object_data)"
   ]
  },
  {
   "cell_type": "code",
   "execution_count": 6,
   "metadata": {},
   "outputs": [
    {
     "data": {
      "text/html": [
       "<div>\n",
       "<style>\n",
       "    .dataframe thead tr:only-child th {\n",
       "        text-align: right;\n",
       "    }\n",
       "\n",
       "    .dataframe thead th {\n",
       "        text-align: left;\n",
       "    }\n",
       "\n",
       "    .dataframe tbody tr th {\n",
       "        vertical-align: top;\n",
       "    }\n",
       "</style>\n",
       "<table border=\"1\" class=\"dataframe\">\n",
       "  <thead>\n",
       "    <tr style=\"text-align: right;\">\n",
       "      <th></th>\n",
       "      <th>Unnamed: 0</th>\n",
       "      <th>TARGET USI</th>\n",
       "      <th>Diagnostic ID</th>\n",
       "      <th>Gender</th>\n",
       "      <th>Race</th>\n",
       "      <th>Ethnicity</th>\n",
       "      <th>Age at Diagnosis in Days</th>\n",
       "      <th>First Event</th>\n",
       "      <th>Event Free Survival Time in Days</th>\n",
       "      <th>Vital Status</th>\n",
       "      <th>...</th>\n",
       "      <th>ENSG00000281649.1</th>\n",
       "      <th>ENSG00000281691.1</th>\n",
       "      <th>ENSG00000281706.1</th>\n",
       "      <th>ENSG00000281741.1</th>\n",
       "      <th>ENSG00000281789.1</th>\n",
       "      <th>ENSG00000281896.1</th>\n",
       "      <th>ENSG00000281912.1</th>\n",
       "      <th>__no_feature</th>\n",
       "      <th>__ambiguous</th>\n",
       "      <th>__alignment_not_unique</th>\n",
       "    </tr>\n",
       "  </thead>\n",
       "  <tbody>\n",
       "    <tr>\n",
       "      <th>0</th>\n",
       "      <td>0</td>\n",
       "      <td>0</td>\n",
       "      <td>1</td>\n",
       "      <td>0</td>\n",
       "      <td>5</td>\n",
       "      <td>1</td>\n",
       "      <td>2455</td>\n",
       "      <td>3</td>\n",
       "      <td>714</td>\n",
       "      <td>0</td>\n",
       "      <td>...</td>\n",
       "      <td>5.486997</td>\n",
       "      <td>-0.834782</td>\n",
       "      <td>-1.296158</td>\n",
       "      <td>-5.407333</td>\n",
       "      <td>-0.256885</td>\n",
       "      <td>1.024227</td>\n",
       "      <td>-3.844758</td>\n",
       "      <td>17.53958</td>\n",
       "      <td>15.68347</td>\n",
       "      <td>18.76896</td>\n",
       "    </tr>\n",
       "    <tr>\n",
       "      <th>1</th>\n",
       "      <td>1</td>\n",
       "      <td>1</td>\n",
       "      <td>1</td>\n",
       "      <td>1</td>\n",
       "      <td>5</td>\n",
       "      <td>1</td>\n",
       "      <td>1159</td>\n",
       "      <td>3</td>\n",
       "      <td>373</td>\n",
       "      <td>1</td>\n",
       "      <td>...</td>\n",
       "      <td>5.981757</td>\n",
       "      <td>0.545861</td>\n",
       "      <td>-2.077616</td>\n",
       "      <td>-1.572028</td>\n",
       "      <td>-2.077616</td>\n",
       "      <td>2.026762</td>\n",
       "      <td>-2.342754</td>\n",
       "      <td>16.88417</td>\n",
       "      <td>14.59825</td>\n",
       "      <td>18.32622</td>\n",
       "    </tr>\n",
       "    <tr>\n",
       "      <th>2</th>\n",
       "      <td>2</td>\n",
       "      <td>1</td>\n",
       "      <td>2</td>\n",
       "      <td>1</td>\n",
       "      <td>5</td>\n",
       "      <td>1</td>\n",
       "      <td>1159</td>\n",
       "      <td>3</td>\n",
       "      <td>373</td>\n",
       "      <td>1</td>\n",
       "      <td>...</td>\n",
       "      <td>6.877301</td>\n",
       "      <td>1.096532</td>\n",
       "      <td>-2.710611</td>\n",
       "      <td>-1.947448</td>\n",
       "      <td>-1.421239</td>\n",
       "      <td>2.485413</td>\n",
       "      <td>-2.448536</td>\n",
       "      <td>17.55232</td>\n",
       "      <td>14.80745</td>\n",
       "      <td>17.93863</td>\n",
       "    </tr>\n",
       "    <tr>\n",
       "      <th>3</th>\n",
       "      <td>3</td>\n",
       "      <td>2</td>\n",
       "      <td>2</td>\n",
       "      <td>0</td>\n",
       "      <td>-1</td>\n",
       "      <td>1</td>\n",
       "      <td>5325</td>\n",
       "      <td>3</td>\n",
       "      <td>314</td>\n",
       "      <td>1</td>\n",
       "      <td>...</td>\n",
       "      <td>5.465605</td>\n",
       "      <td>-0.330849</td>\n",
       "      <td>-1.843229</td>\n",
       "      <td>-0.801464</td>\n",
       "      <td>-0.364707</td>\n",
       "      <td>2.164604</td>\n",
       "      <td>-0.152689</td>\n",
       "      <td>17.12435</td>\n",
       "      <td>14.60608</td>\n",
       "      <td>17.85268</td>\n",
       "    </tr>\n",
       "    <tr>\n",
       "      <th>4</th>\n",
       "      <td>4</td>\n",
       "      <td>2</td>\n",
       "      <td>1</td>\n",
       "      <td>0</td>\n",
       "      <td>-1</td>\n",
       "      <td>1</td>\n",
       "      <td>5325</td>\n",
       "      <td>3</td>\n",
       "      <td>314</td>\n",
       "      <td>1</td>\n",
       "      <td>...</td>\n",
       "      <td>4.989745</td>\n",
       "      <td>1.008904</td>\n",
       "      <td>-2.298227</td>\n",
       "      <td>-1.264844</td>\n",
       "      <td>0.362001</td>\n",
       "      <td>2.474975</td>\n",
       "      <td>-1.534493</td>\n",
       "      <td>17.47790</td>\n",
       "      <td>14.67804</td>\n",
       "      <td>18.92434</td>\n",
       "    </tr>\n",
       "  </tbody>\n",
       "</table>\n",
       "<p>5 rows × 21470 columns</p>\n",
       "</div>"
      ],
      "text/plain": [
       "   Unnamed: 0  TARGET USI  Diagnostic ID  Gender  Race  Ethnicity  \\\n",
       "0           0           0              1       0     5          1   \n",
       "1           1           1              1       1     5          1   \n",
       "2           2           1              2       1     5          1   \n",
       "3           3           2              2       0    -1          1   \n",
       "4           4           2              1       0    -1          1   \n",
       "\n",
       "   Age at Diagnosis in Days  First Event  Event Free Survival Time in Days  \\\n",
       "0                      2455            3                               714   \n",
       "1                      1159            3                               373   \n",
       "2                      1159            3                               373   \n",
       "3                      5325            3                               314   \n",
       "4                      5325            3                               314   \n",
       "\n",
       "   Vital Status           ...            ENSG00000281649.1  ENSG00000281691.1  \\\n",
       "0             0           ...                     5.486997          -0.834782   \n",
       "1             1           ...                     5.981757           0.545861   \n",
       "2             1           ...                     6.877301           1.096532   \n",
       "3             1           ...                     5.465605          -0.330849   \n",
       "4             1           ...                     4.989745           1.008904   \n",
       "\n",
       "   ENSG00000281706.1  ENSG00000281741.1  ENSG00000281789.1  ENSG00000281896.1  \\\n",
       "0          -1.296158          -5.407333          -0.256885           1.024227   \n",
       "1          -2.077616          -1.572028          -2.077616           2.026762   \n",
       "2          -2.710611          -1.947448          -1.421239           2.485413   \n",
       "3          -1.843229          -0.801464          -0.364707           2.164604   \n",
       "4          -2.298227          -1.264844           0.362001           2.474975   \n",
       "\n",
       "   ENSG00000281912.1  __no_feature  __ambiguous  __alignment_not_unique  \n",
       "0          -3.844758      17.53958     15.68347                18.76896  \n",
       "1          -2.342754      16.88417     14.59825                18.32622  \n",
       "2          -2.448536      17.55232     14.80745                17.93863  \n",
       "3          -0.152689      17.12435     14.60608                17.85268  \n",
       "4          -1.534493      17.47790     14.67804                18.92434  \n",
       "\n",
       "[5 rows x 21470 columns]"
      ]
     },
     "execution_count": 6,
     "metadata": {},
     "output_type": "execute_result"
    }
   ],
   "source": [
    "for col in cols:\n",
    "    AML_data[col] = AML_data[col].astype('category').cat.codes\n",
    "#AML_data = AML_data.apply(pd.to_numeric)\n",
    "AML_data.head()"
   ]
  },
  {
   "cell_type": "code",
   "execution_count": 7,
   "metadata": {},
   "outputs": [
    {
     "data": {
      "text/plain": [
       "(187, 21470)"
      ]
     },
     "execution_count": 7,
     "metadata": {},
     "output_type": "execute_result"
    }
   ],
   "source": [
    "AML_data.shape"
   ]
  },
  {
   "cell_type": "code",
   "execution_count": 8,
   "metadata": {},
   "outputs": [
    {
     "name": "stdout",
     "output_type": "stream",
     "text": [
      "Risk group\n",
      "-1    10\n",
      " 0    12\n",
      " 1    72\n",
      " 2    93\n",
      "dtype: int64\n"
     ]
    }
   ],
   "source": [
    "print(AML_data.groupby('Risk group').size())"
   ]
  },
  {
   "cell_type": "code",
   "execution_count": 9,
   "metadata": {},
   "outputs": [],
   "source": [
    "# move Risk Group (the column to be predicted) to be the last column in the data frame\n",
    "riskGroup_column = AML_data.pop('Risk group')\n",
    "AML_data['Risk group'] = riskGroup_column"
   ]
  },
  {
   "cell_type": "code",
   "execution_count": 10,
   "metadata": {},
   "outputs": [],
   "source": [
    "scoring = 'accuracy'"
   ]
  },
  {
   "cell_type": "code",
   "execution_count": 11,
   "metadata": {},
   "outputs": [
    {
     "data": {
      "text/plain": [
       "True"
      ]
     },
     "execution_count": 11,
     "metadata": {},
     "output_type": "execute_result"
    }
   ],
   "source": [
    "np.any(np.isnan(AML_data))"
   ]
  },
  {
   "cell_type": "code",
   "execution_count": 12,
   "metadata": {},
   "outputs": [],
   "source": [
    "AML_data=AML_data.fillna(-1)"
   ]
  },
  {
   "cell_type": "code",
   "execution_count": 13,
   "metadata": {},
   "outputs": [
    {
     "data": {
      "text/plain": [
       "False"
      ]
     },
     "execution_count": 13,
     "metadata": {},
     "output_type": "execute_result"
    }
   ],
   "source": [
    "np.any(np.isnan(AML_data))"
   ]
  },
  {
   "cell_type": "code",
   "execution_count": 14,
   "metadata": {},
   "outputs": [],
   "source": [
    "AML_data = AML_data.apply(pd.to_numeric)"
   ]
  },
  {
   "cell_type": "code",
   "execution_count": 15,
   "metadata": {},
   "outputs": [],
   "source": [
    "# separate out validation data set\n",
    "AML_array = AML_data.values\n",
    "X = AML_array[:,0:21469]\n",
    "Y = AML_array[:,21469]\n",
    "validation_size=0.20\n",
    "seed = 42\n",
    "X_train, X_validation, Y_train, Y_validation = model_selection.train_test_split(X, Y, test_size=validation_size, random_state=seed)"
   ]
  },
  {
   "cell_type": "code",
   "execution_count": 17,
   "metadata": {},
   "outputs": [
    {
     "name": "stdout",
     "output_type": "stream",
     "text": [
      "LR: 0.839048 (0.112159)\n"
     ]
    },
    {
     "name": "stderr",
     "output_type": "stream",
     "text": [
      "C:\\Users\\Emma Jane\\Anaconda3\\lib\\site-packages\\sklearn\\discriminant_analysis.py:388: UserWarning: Variables are collinear.\n",
      "  warnings.warn(\"Variables are collinear.\")\n",
      "C:\\Users\\Emma Jane\\Anaconda3\\lib\\site-packages\\sklearn\\discriminant_analysis.py:388: UserWarning: Variables are collinear.\n",
      "  warnings.warn(\"Variables are collinear.\")\n",
      "C:\\Users\\Emma Jane\\Anaconda3\\lib\\site-packages\\sklearn\\discriminant_analysis.py:388: UserWarning: Variables are collinear.\n",
      "  warnings.warn(\"Variables are collinear.\")\n",
      "C:\\Users\\Emma Jane\\Anaconda3\\lib\\site-packages\\sklearn\\discriminant_analysis.py:388: UserWarning: Variables are collinear.\n",
      "  warnings.warn(\"Variables are collinear.\")\n",
      "C:\\Users\\Emma Jane\\Anaconda3\\lib\\site-packages\\sklearn\\discriminant_analysis.py:388: UserWarning: Variables are collinear.\n",
      "  warnings.warn(\"Variables are collinear.\")\n",
      "C:\\Users\\Emma Jane\\Anaconda3\\lib\\site-packages\\sklearn\\discriminant_analysis.py:442: UserWarning: The priors do not sum to 1. Renormalizing\n",
      "  UserWarning)\n",
      "C:\\Users\\Emma Jane\\Anaconda3\\lib\\site-packages\\sklearn\\discriminant_analysis.py:388: UserWarning: Variables are collinear.\n",
      "  warnings.warn(\"Variables are collinear.\")\n",
      "C:\\Users\\Emma Jane\\Anaconda3\\lib\\site-packages\\sklearn\\discriminant_analysis.py:388: UserWarning: Variables are collinear.\n",
      "  warnings.warn(\"Variables are collinear.\")\n",
      "C:\\Users\\Emma Jane\\Anaconda3\\lib\\site-packages\\sklearn\\discriminant_analysis.py:388: UserWarning: Variables are collinear.\n",
      "  warnings.warn(\"Variables are collinear.\")\n",
      "C:\\Users\\Emma Jane\\Anaconda3\\lib\\site-packages\\sklearn\\discriminant_analysis.py:388: UserWarning: Variables are collinear.\n",
      "  warnings.warn(\"Variables are collinear.\")\n",
      "C:\\Users\\Emma Jane\\Anaconda3\\lib\\site-packages\\sklearn\\discriminant_analysis.py:388: UserWarning: Variables are collinear.\n",
      "  warnings.warn(\"Variables are collinear.\")\n"
     ]
    },
    {
     "name": "stdout",
     "output_type": "stream",
     "text": [
      "LDA: 0.819048 (0.133197)\n",
      "KNN: 0.538095 (0.092655)\n",
      "CART: 0.940000 (0.141264)\n",
      "NB: 0.778095 (0.130934)\n",
      "SVM: 0.530000 (0.130341)\n"
     ]
    }
   ],
   "source": [
    "# create an array to house each model\n",
    "models = []\n",
    "models.append(('LR', LogisticRegression(solver='liblinear', multi_class='ovr')))\n",
    "models.append(('LDA', LinearDiscriminantAnalysis()))\n",
    "models.append(('KNN', KNeighborsClassifier()))\n",
    "models.append(('CART', DecisionTreeClassifier(random_state = seed)))\n",
    "models.append(('NB', GaussianNB()))\n",
    "models.append(('SVM', SVC(gamma='auto')))\n",
    "\n",
    "# create an array to house the accuracy estimations for each model\n",
    "results = []\n",
    "names = []\n",
    "for name, model in models:\n",
    "    # create ten folds\n",
    "    kfold = model_selection.KFold(n_splits=10, random_state = seed)\n",
    "    cv_results = model_selection.cross_val_score(model, X_train, Y_train, cv=kfold, scoring=scoring)\n",
    "    results.append(cv_results)\n",
    "    names.append(name)\n",
    "    msg = \"%s: %f (%f)\" % (name, cv_results.mean(), cv_results.std())\n",
    "    print(msg)\n",
    "    "
   ]
  },
  {
   "cell_type": "markdown",
   "metadata": {},
   "source": [
    "### AML Models in Order of Descending Accuracy (from this notebook): \n",
    "CART (94.0%), LR (83.9%), LDA (81.9%), NB (77.8%), KNN (53.8%), SVM (53.0%)\n",
    "\n",
    "### NBL Models in Order of Descending Accuracy (from \"Bioinformatics Final Project_NBL_EBL.ipynb\"):\n",
    "LR(94.2%), LDA (92.5%), CART (88.3%), NB(86.7%), KNN (80.0%), SVM (78.3%)\n",
    "\n",
    "### WT Models in Order of Descendign Accuracy (from \"Bioinformatics Final Project_WT_EBL.ipynb\"):\n",
    "LR (43.0%), NB(41.9%), KNN(39.2%), LDA (37.4%), CART (31.7%), SVM (28.6%)"
   ]
  },
  {
   "cell_type": "markdown",
   "metadata": {},
   "source": [
    "## Ensemble Method"
   ]
  },
  {
   "cell_type": "code",
   "execution_count": null,
   "metadata": {},
   "outputs": [],
   "source": [
    "# create base models\n",
    "model1 = LinearDiscriminantAnalysis()\n",
    "\n",
    "\n",
    "model2 = LogisticRegression(sovler=\"liblinear\",multi_class='ovr')\n",
    "\n"
   ]
  }
 ],
 "metadata": {
  "kernelspec": {
   "display_name": "Python 3",
   "language": "python",
   "name": "python3"
  },
  "language_info": {
   "codemirror_mode": {
    "name": "ipython",
    "version": 3
   },
   "file_extension": ".py",
   "mimetype": "text/x-python",
   "name": "python",
   "nbconvert_exporter": "python",
   "pygments_lexer": "ipython3",
   "version": "3.6.8"
  }
 },
 "nbformat": 4,
 "nbformat_minor": 2
}
