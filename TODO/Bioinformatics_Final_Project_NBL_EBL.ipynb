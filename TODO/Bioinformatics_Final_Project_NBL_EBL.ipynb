{
 "cells": [
  {
   "cell_type": "code",
   "execution_count": 1,
   "metadata": {},
   "outputs": [],
   "source": [
    "import pandas as pd\n",
    "import matplotlib.pyplot as plt\n",
    "import numpy as np\n",
    "from sklearn import model_selection\n",
    "from sklearn.metrics import classification_report\n",
    "from sklearn.metrics import confusion_matrix\n",
    "from sklearn.metrics import accuracy_score\n",
    "from sklearn.linear_model import LogisticRegression\n",
    "from sklearn.tree import DecisionTreeClassifier\n",
    "from sklearn.neighbors import KNeighborsClassifier\n",
    "from sklearn.discriminant_analysis import LinearDiscriminantAnalysis\n",
    "from sklearn.naive_bayes import GaussianNB\n",
    "from sklearn.svm import SVC"
   ]
  },
  {
   "cell_type": "code",
   "execution_count": 2,
   "metadata": {},
   "outputs": [
    {
     "name": "stderr",
     "output_type": "stream",
     "text": [
      "C:\\Users\\Emma Jane\\Anaconda3\\lib\\site-packages\\IPython\\core\\interactiveshell.py:2698: DtypeWarning: Columns (26,30,32,33) have mixed types. Specify dtype option on import or set low_memory=False.\n",
      "  interactivity=interactivity, compiler=compiler, result=result)\n"
     ]
    }
   ],
   "source": [
    "# read data file\n",
    "NBL_data = pd.read_csv(\"NBL_assay_clinical.csv\")\n",
    "NBL_data = NBL_data.replace('Unknown', np.float('nan'))\n",
    "columns = ['Comment', 'data_type', 'updated_datetime', 'file_name','submitter_id','file_id',\n",
    "           'file_size','id','created_datetime','md5sum','data_format','access','state',\n",
    "           'data_category','type','experimental_strategy','project.project_id','entity_id',\n",
    "           'case_id','entity_submitter_id','entity_type']\n",
    "NBL_data.drop(columns, inplace=True, axis=1)"
   ]
  },
  {
   "cell_type": "code",
   "execution_count": 3,
   "metadata": {},
   "outputs": [
    {
     "data": {
      "text/html": [
       "<div>\n",
       "<style>\n",
       "    .dataframe thead tr:only-child th {\n",
       "        text-align: right;\n",
       "    }\n",
       "\n",
       "    .dataframe thead th {\n",
       "        text-align: left;\n",
       "    }\n",
       "\n",
       "    .dataframe tbody tr th {\n",
       "        vertical-align: top;\n",
       "    }\n",
       "</style>\n",
       "<table border=\"1\" class=\"dataframe\">\n",
       "  <thead>\n",
       "    <tr style=\"text-align: right;\">\n",
       "      <th></th>\n",
       "      <th>Unnamed: 0</th>\n",
       "      <th>TARGET USI</th>\n",
       "      <th>Diagnostic ID</th>\n",
       "      <th>Gender</th>\n",
       "      <th>Race</th>\n",
       "      <th>Ethnicity</th>\n",
       "      <th>Age at Diagnosis in Days</th>\n",
       "      <th>First Event</th>\n",
       "      <th>Event Free Survival Time in Days</th>\n",
       "      <th>Vital Status</th>\n",
       "      <th>...</th>\n",
       "      <th>ENSG00000281649.1</th>\n",
       "      <th>ENSG00000281691.1</th>\n",
       "      <th>ENSG00000281706.1</th>\n",
       "      <th>ENSG00000281741.1</th>\n",
       "      <th>ENSG00000281789.1</th>\n",
       "      <th>ENSG00000281896.1</th>\n",
       "      <th>ENSG00000281912.1</th>\n",
       "      <th>__no_feature</th>\n",
       "      <th>__ambiguous</th>\n",
       "      <th>__alignment_not_unique</th>\n",
       "    </tr>\n",
       "  </thead>\n",
       "  <tbody>\n",
       "    <tr>\n",
       "      <th>0</th>\n",
       "      <td>0</td>\n",
       "      <td>TARGET-30-PAIFXV</td>\n",
       "      <td>01A</td>\n",
       "      <td>Female</td>\n",
       "      <td>White</td>\n",
       "      <td>NaN</td>\n",
       "      <td>2004</td>\n",
       "      <td>Event</td>\n",
       "      <td>630.0</td>\n",
       "      <td>Dead</td>\n",
       "      <td>...</td>\n",
       "      <td>4.703077</td>\n",
       "      <td>-2.539632</td>\n",
       "      <td>-1.150738</td>\n",
       "      <td>-2.683996</td>\n",
       "      <td>-2.347017</td>\n",
       "      <td>-1.124745</td>\n",
       "      <td>0.144663</td>\n",
       "      <td>16.10492</td>\n",
       "      <td>14.46502</td>\n",
       "      <td>17.50624</td>\n",
       "    </tr>\n",
       "    <tr>\n",
       "      <th>1</th>\n",
       "      <td>1</td>\n",
       "      <td>TARGET-30-PAIPGU</td>\n",
       "      <td>01A</td>\n",
       "      <td>Female</td>\n",
       "      <td>White</td>\n",
       "      <td>NaN</td>\n",
       "      <td>898</td>\n",
       "      <td>Death</td>\n",
       "      <td>436.0</td>\n",
       "      <td>Dead</td>\n",
       "      <td>...</td>\n",
       "      <td>3.411992</td>\n",
       "      <td>-2.575069</td>\n",
       "      <td>-1.661957</td>\n",
       "      <td>-3.032512</td>\n",
       "      <td>-0.908861</td>\n",
       "      <td>-1.379287</td>\n",
       "      <td>-0.084676</td>\n",
       "      <td>16.18287</td>\n",
       "      <td>14.43767</td>\n",
       "      <td>17.07436</td>\n",
       "    </tr>\n",
       "    <tr>\n",
       "      <th>2</th>\n",
       "      <td>2</td>\n",
       "      <td>TARGET-30-PAISNS</td>\n",
       "      <td>01A</td>\n",
       "      <td>Male</td>\n",
       "      <td>White</td>\n",
       "      <td>NaN</td>\n",
       "      <td>1070</td>\n",
       "      <td>Event</td>\n",
       "      <td>410.0</td>\n",
       "      <td>Dead</td>\n",
       "      <td>...</td>\n",
       "      <td>4.507146</td>\n",
       "      <td>-3.390368</td>\n",
       "      <td>0.279517</td>\n",
       "      <td>-4.745955</td>\n",
       "      <td>-1.674654</td>\n",
       "      <td>-0.258184</td>\n",
       "      <td>-1.125036</td>\n",
       "      <td>15.64740</td>\n",
       "      <td>14.64140</td>\n",
       "      <td>16.73996</td>\n",
       "    </tr>\n",
       "    <tr>\n",
       "      <th>3</th>\n",
       "      <td>3</td>\n",
       "      <td>TARGET-30-PAITCI</td>\n",
       "      <td>01A</td>\n",
       "      <td>Male</td>\n",
       "      <td>White</td>\n",
       "      <td>NaN</td>\n",
       "      <td>728</td>\n",
       "      <td>Event</td>\n",
       "      <td>232.0</td>\n",
       "      <td>Dead</td>\n",
       "      <td>...</td>\n",
       "      <td>4.677114</td>\n",
       "      <td>-3.331185</td>\n",
       "      <td>-5.240817</td>\n",
       "      <td>0.996490</td>\n",
       "      <td>0.421057</td>\n",
       "      <td>-1.924573</td>\n",
       "      <td>0.028438</td>\n",
       "      <td>16.05813</td>\n",
       "      <td>14.44632</td>\n",
       "      <td>16.85170</td>\n",
       "    </tr>\n",
       "    <tr>\n",
       "      <th>4</th>\n",
       "      <td>4</td>\n",
       "      <td>TARGET-30-PAIVHE</td>\n",
       "      <td>01A</td>\n",
       "      <td>Male</td>\n",
       "      <td>White</td>\n",
       "      <td>Not Hispanic or Latino</td>\n",
       "      <td>1123</td>\n",
       "      <td>Event</td>\n",
       "      <td>672.0</td>\n",
       "      <td>Dead</td>\n",
       "      <td>...</td>\n",
       "      <td>4.554736</td>\n",
       "      <td>-1.448875</td>\n",
       "      <td>-3.387508</td>\n",
       "      <td>-2.257757</td>\n",
       "      <td>-1.448875</td>\n",
       "      <td>-0.796058</td>\n",
       "      <td>-0.465148</td>\n",
       "      <td>16.43831</td>\n",
       "      <td>14.30633</td>\n",
       "      <td>16.74036</td>\n",
       "    </tr>\n",
       "  </tbody>\n",
       "</table>\n",
       "<p>5 rows × 21440 columns</p>\n",
       "</div>"
      ],
      "text/plain": [
       "   Unnamed: 0        TARGET USI Diagnostic ID  Gender   Race  \\\n",
       "0           0  TARGET-30-PAIFXV           01A  Female  White   \n",
       "1           1  TARGET-30-PAIPGU           01A  Female  White   \n",
       "2           2  TARGET-30-PAISNS           01A    Male  White   \n",
       "3           3  TARGET-30-PAITCI           01A    Male  White   \n",
       "4           4  TARGET-30-PAIVHE           01A    Male  White   \n",
       "\n",
       "                Ethnicity  Age at Diagnosis in Days First Event  \\\n",
       "0                     NaN                      2004       Event   \n",
       "1                     NaN                       898       Death   \n",
       "2                     NaN                      1070       Event   \n",
       "3                     NaN                       728       Event   \n",
       "4  Not Hispanic or Latino                      1123       Event   \n",
       "\n",
       "   Event Free Survival Time in Days Vital Status          ...            \\\n",
       "0                             630.0         Dead          ...             \n",
       "1                             436.0         Dead          ...             \n",
       "2                             410.0         Dead          ...             \n",
       "3                             232.0         Dead          ...             \n",
       "4                             672.0         Dead          ...             \n",
       "\n",
       "   ENSG00000281649.1  ENSG00000281691.1  ENSG00000281706.1 ENSG00000281741.1  \\\n",
       "0           4.703077          -2.539632          -1.150738         -2.683996   \n",
       "1           3.411992          -2.575069          -1.661957         -3.032512   \n",
       "2           4.507146          -3.390368           0.279517         -4.745955   \n",
       "3           4.677114          -3.331185          -5.240817          0.996490   \n",
       "4           4.554736          -1.448875          -3.387508         -2.257757   \n",
       "\n",
       "  ENSG00000281789.1 ENSG00000281896.1 ENSG00000281912.1  __no_feature  \\\n",
       "0         -2.347017         -1.124745          0.144663      16.10492   \n",
       "1         -0.908861         -1.379287         -0.084676      16.18287   \n",
       "2         -1.674654         -0.258184         -1.125036      15.64740   \n",
       "3          0.421057         -1.924573          0.028438      16.05813   \n",
       "4         -1.448875         -0.796058         -0.465148      16.43831   \n",
       "\n",
       "  __ambiguous __alignment_not_unique  \n",
       "0    14.46502               17.50624  \n",
       "1    14.43767               17.07436  \n",
       "2    14.64140               16.73996  \n",
       "3    14.44632               16.85170  \n",
       "4    14.30633               16.74036  \n",
       "\n",
       "[5 rows x 21440 columns]"
      ]
     },
     "execution_count": 3,
     "metadata": {},
     "output_type": "execute_result"
    }
   ],
   "source": [
    "NBL_data.head()"
   ]
  },
  {
   "cell_type": "code",
   "execution_count": 4,
   "metadata": {},
   "outputs": [
    {
     "data": {
      "text/plain": [
       "(150, 21440)"
      ]
     },
     "execution_count": 4,
     "metadata": {},
     "output_type": "execute_result"
    }
   ],
   "source": [
    "# show dimensions of NBL_data\n",
    "NBL_data.shape"
   ]
  },
  {
   "cell_type": "code",
   "execution_count": 5,
   "metadata": {},
   "outputs": [],
   "source": [
    "object_data = NBL_data.describe(include=['object'])\n",
    "cols = list(object_data)"
   ]
  },
  {
   "cell_type": "code",
   "execution_count": 6,
   "metadata": {},
   "outputs": [
    {
     "data": {
      "text/html": [
       "<div>\n",
       "<style>\n",
       "    .dataframe thead tr:only-child th {\n",
       "        text-align: right;\n",
       "    }\n",
       "\n",
       "    .dataframe thead th {\n",
       "        text-align: left;\n",
       "    }\n",
       "\n",
       "    .dataframe tbody tr th {\n",
       "        vertical-align: top;\n",
       "    }\n",
       "</style>\n",
       "<table border=\"1\" class=\"dataframe\">\n",
       "  <thead>\n",
       "    <tr style=\"text-align: right;\">\n",
       "      <th></th>\n",
       "      <th>Unnamed: 0</th>\n",
       "      <th>TARGET USI</th>\n",
       "      <th>Diagnostic ID</th>\n",
       "      <th>Gender</th>\n",
       "      <th>Race</th>\n",
       "      <th>Ethnicity</th>\n",
       "      <th>Age at Diagnosis in Days</th>\n",
       "      <th>First Event</th>\n",
       "      <th>Event Free Survival Time in Days</th>\n",
       "      <th>Vital Status</th>\n",
       "      <th>...</th>\n",
       "      <th>ENSG00000281649.1</th>\n",
       "      <th>ENSG00000281691.1</th>\n",
       "      <th>ENSG00000281706.1</th>\n",
       "      <th>ENSG00000281741.1</th>\n",
       "      <th>ENSG00000281789.1</th>\n",
       "      <th>ENSG00000281896.1</th>\n",
       "      <th>ENSG00000281912.1</th>\n",
       "      <th>__no_feature</th>\n",
       "      <th>__ambiguous</th>\n",
       "      <th>__alignment_not_unique</th>\n",
       "    </tr>\n",
       "  </thead>\n",
       "  <tbody>\n",
       "    <tr>\n",
       "      <th>0</th>\n",
       "      <td>0</td>\n",
       "      <td>0</td>\n",
       "      <td>0</td>\n",
       "      <td>0</td>\n",
       "      <td>3</td>\n",
       "      <td>-1</td>\n",
       "      <td>2004</td>\n",
       "      <td>2</td>\n",
       "      <td>630.0</td>\n",
       "      <td>1</td>\n",
       "      <td>...</td>\n",
       "      <td>4.703077</td>\n",
       "      <td>-2.539632</td>\n",
       "      <td>-1.150738</td>\n",
       "      <td>-2.683996</td>\n",
       "      <td>-2.347017</td>\n",
       "      <td>-1.124745</td>\n",
       "      <td>0.144663</td>\n",
       "      <td>16.10492</td>\n",
       "      <td>14.46502</td>\n",
       "      <td>17.50624</td>\n",
       "    </tr>\n",
       "    <tr>\n",
       "      <th>1</th>\n",
       "      <td>1</td>\n",
       "      <td>1</td>\n",
       "      <td>0</td>\n",
       "      <td>0</td>\n",
       "      <td>3</td>\n",
       "      <td>-1</td>\n",
       "      <td>898</td>\n",
       "      <td>1</td>\n",
       "      <td>436.0</td>\n",
       "      <td>1</td>\n",
       "      <td>...</td>\n",
       "      <td>3.411992</td>\n",
       "      <td>-2.575069</td>\n",
       "      <td>-1.661957</td>\n",
       "      <td>-3.032512</td>\n",
       "      <td>-0.908861</td>\n",
       "      <td>-1.379287</td>\n",
       "      <td>-0.084676</td>\n",
       "      <td>16.18287</td>\n",
       "      <td>14.43767</td>\n",
       "      <td>17.07436</td>\n",
       "    </tr>\n",
       "    <tr>\n",
       "      <th>2</th>\n",
       "      <td>2</td>\n",
       "      <td>2</td>\n",
       "      <td>0</td>\n",
       "      <td>1</td>\n",
       "      <td>3</td>\n",
       "      <td>-1</td>\n",
       "      <td>1070</td>\n",
       "      <td>2</td>\n",
       "      <td>410.0</td>\n",
       "      <td>1</td>\n",
       "      <td>...</td>\n",
       "      <td>4.507146</td>\n",
       "      <td>-3.390368</td>\n",
       "      <td>0.279517</td>\n",
       "      <td>-4.745955</td>\n",
       "      <td>-1.674654</td>\n",
       "      <td>-0.258184</td>\n",
       "      <td>-1.125036</td>\n",
       "      <td>15.64740</td>\n",
       "      <td>14.64140</td>\n",
       "      <td>16.73996</td>\n",
       "    </tr>\n",
       "    <tr>\n",
       "      <th>3</th>\n",
       "      <td>3</td>\n",
       "      <td>3</td>\n",
       "      <td>0</td>\n",
       "      <td>1</td>\n",
       "      <td>3</td>\n",
       "      <td>-1</td>\n",
       "      <td>728</td>\n",
       "      <td>2</td>\n",
       "      <td>232.0</td>\n",
       "      <td>1</td>\n",
       "      <td>...</td>\n",
       "      <td>4.677114</td>\n",
       "      <td>-3.331185</td>\n",
       "      <td>-5.240817</td>\n",
       "      <td>0.996490</td>\n",
       "      <td>0.421057</td>\n",
       "      <td>-1.924573</td>\n",
       "      <td>0.028438</td>\n",
       "      <td>16.05813</td>\n",
       "      <td>14.44632</td>\n",
       "      <td>16.85170</td>\n",
       "    </tr>\n",
       "    <tr>\n",
       "      <th>4</th>\n",
       "      <td>4</td>\n",
       "      <td>4</td>\n",
       "      <td>0</td>\n",
       "      <td>1</td>\n",
       "      <td>3</td>\n",
       "      <td>1</td>\n",
       "      <td>1123</td>\n",
       "      <td>2</td>\n",
       "      <td>672.0</td>\n",
       "      <td>1</td>\n",
       "      <td>...</td>\n",
       "      <td>4.554736</td>\n",
       "      <td>-1.448875</td>\n",
       "      <td>-3.387508</td>\n",
       "      <td>-2.257757</td>\n",
       "      <td>-1.448875</td>\n",
       "      <td>-0.796058</td>\n",
       "      <td>-0.465148</td>\n",
       "      <td>16.43831</td>\n",
       "      <td>14.30633</td>\n",
       "      <td>16.74036</td>\n",
       "    </tr>\n",
       "  </tbody>\n",
       "</table>\n",
       "<p>5 rows × 21440 columns</p>\n",
       "</div>"
      ],
      "text/plain": [
       "   Unnamed: 0  TARGET USI  Diagnostic ID  Gender  Race  Ethnicity  \\\n",
       "0           0           0              0       0     3         -1   \n",
       "1           1           1              0       0     3         -1   \n",
       "2           2           2              0       1     3         -1   \n",
       "3           3           3              0       1     3         -1   \n",
       "4           4           4              0       1     3          1   \n",
       "\n",
       "   Age at Diagnosis in Days  First Event  Event Free Survival Time in Days  \\\n",
       "0                      2004            2                             630.0   \n",
       "1                       898            1                             436.0   \n",
       "2                      1070            2                             410.0   \n",
       "3                       728            2                             232.0   \n",
       "4                      1123            2                             672.0   \n",
       "\n",
       "   Vital Status           ...            ENSG00000281649.1  ENSG00000281691.1  \\\n",
       "0             1           ...                     4.703077          -2.539632   \n",
       "1             1           ...                     3.411992          -2.575069   \n",
       "2             1           ...                     4.507146          -3.390368   \n",
       "3             1           ...                     4.677114          -3.331185   \n",
       "4             1           ...                     4.554736          -1.448875   \n",
       "\n",
       "   ENSG00000281706.1  ENSG00000281741.1  ENSG00000281789.1  ENSG00000281896.1  \\\n",
       "0          -1.150738          -2.683996          -2.347017          -1.124745   \n",
       "1          -1.661957          -3.032512          -0.908861          -1.379287   \n",
       "2           0.279517          -4.745955          -1.674654          -0.258184   \n",
       "3          -5.240817           0.996490           0.421057          -1.924573   \n",
       "4          -3.387508          -2.257757          -1.448875          -0.796058   \n",
       "\n",
       "   ENSG00000281912.1  __no_feature  __ambiguous  __alignment_not_unique  \n",
       "0           0.144663      16.10492     14.46502                17.50624  \n",
       "1          -0.084676      16.18287     14.43767                17.07436  \n",
       "2          -1.125036      15.64740     14.64140                16.73996  \n",
       "3           0.028438      16.05813     14.44632                16.85170  \n",
       "4          -0.465148      16.43831     14.30633                16.74036  \n",
       "\n",
       "[5 rows x 21440 columns]"
      ]
     },
     "execution_count": 6,
     "metadata": {},
     "output_type": "execute_result"
    }
   ],
   "source": [
    "for col in cols:\n",
    "    NBL_data[col] = NBL_data[col].astype('category').cat.codes\n",
    "#NBL_data = NBL_data.apply(pd.to_numeric)\n",
    "NBL_data.head()"
   ]
  },
  {
   "cell_type": "code",
   "execution_count": 7,
   "metadata": {},
   "outputs": [
    {
     "data": {
      "text/plain": [
       "(150, 21440)"
      ]
     },
     "execution_count": 7,
     "metadata": {},
     "output_type": "execute_result"
    }
   ],
   "source": [
    "NBL_data.shape"
   ]
  },
  {
   "cell_type": "code",
   "execution_count": 8,
   "metadata": {},
   "outputs": [
    {
     "name": "stdout",
     "output_type": "stream",
     "text": [
      "COG Risk Group\n",
      "0    119\n",
      "1     17\n",
      "2     14\n",
      "dtype: int64\n"
     ]
    }
   ],
   "source": [
    "print(NBL_data.groupby('COG Risk Group').size())"
   ]
  },
  {
   "cell_type": "code",
   "execution_count": 9,
   "metadata": {},
   "outputs": [],
   "source": [
    "# move Risk Group (the column to be predicted) to be the last column in the data frame\n",
    "riskGroup_column = NBL_data.pop('COG Risk Group')\n",
    "NBL_data['Risk group'] = riskGroup_column"
   ]
  },
  {
   "cell_type": "code",
   "execution_count": 10,
   "metadata": {},
   "outputs": [],
   "source": [
    "scoring = 'accuracy'"
   ]
  },
  {
   "cell_type": "code",
   "execution_count": 11,
   "metadata": {},
   "outputs": [
    {
     "data": {
      "text/plain": [
       "True"
      ]
     },
     "execution_count": 11,
     "metadata": {},
     "output_type": "execute_result"
    }
   ],
   "source": [
    "np.any(np.isnan(NBL_data))"
   ]
  },
  {
   "cell_type": "code",
   "execution_count": 12,
   "metadata": {},
   "outputs": [],
   "source": [
    "NBL_data=NBL_data.fillna(-1)"
   ]
  },
  {
   "cell_type": "code",
   "execution_count": 13,
   "metadata": {},
   "outputs": [
    {
     "data": {
      "text/plain": [
       "False"
      ]
     },
     "execution_count": 13,
     "metadata": {},
     "output_type": "execute_result"
    }
   ],
   "source": [
    "np.any(np.isnan(NBL_data))"
   ]
  },
  {
   "cell_type": "code",
   "execution_count": 14,
   "metadata": {},
   "outputs": [],
   "source": [
    "NBL_data = NBL_data.apply(pd.to_numeric)"
   ]
  },
  {
   "cell_type": "code",
   "execution_count": 15,
   "metadata": {},
   "outputs": [],
   "source": [
    "# separate out validation data set\n",
    "NBL_array = NBL_data.values\n",
    "X = NBL_array[:,0:21439]\n",
    "Y = NBL_array[:,21439]\n",
    "validation_size=0.20\n",
    "seed = 42\n",
    "X_train, X_validation, Y_train, Y_validation = model_selection.train_test_split(X, Y, test_size=validation_size, random_state=seed)"
   ]
  },
  {
   "cell_type": "code",
   "execution_count": 16,
   "metadata": {},
   "outputs": [
    {
     "name": "stdout",
     "output_type": "stream",
     "text": [
      "LR: 0.941667 (0.065085)\n"
     ]
    },
    {
     "name": "stderr",
     "output_type": "stream",
     "text": [
      "C:\\Users\\Emma Jane\\Anaconda3\\lib\\site-packages\\sklearn\\discriminant_analysis.py:388: UserWarning: Variables are collinear.\n",
      "  warnings.warn(\"Variables are collinear.\")\n",
      "C:\\Users\\Emma Jane\\Anaconda3\\lib\\site-packages\\sklearn\\discriminant_analysis.py:388: UserWarning: Variables are collinear.\n",
      "  warnings.warn(\"Variables are collinear.\")\n",
      "C:\\Users\\Emma Jane\\Anaconda3\\lib\\site-packages\\sklearn\\discriminant_analysis.py:388: UserWarning: Variables are collinear.\n",
      "  warnings.warn(\"Variables are collinear.\")\n",
      "C:\\Users\\Emma Jane\\Anaconda3\\lib\\site-packages\\sklearn\\discriminant_analysis.py:388: UserWarning: Variables are collinear.\n",
      "  warnings.warn(\"Variables are collinear.\")\n",
      "C:\\Users\\Emma Jane\\Anaconda3\\lib\\site-packages\\sklearn\\discriminant_analysis.py:388: UserWarning: Variables are collinear.\n",
      "  warnings.warn(\"Variables are collinear.\")\n",
      "C:\\Users\\Emma Jane\\Anaconda3\\lib\\site-packages\\sklearn\\discriminant_analysis.py:388: UserWarning: Variables are collinear.\n",
      "  warnings.warn(\"Variables are collinear.\")\n",
      "C:\\Users\\Emma Jane\\Anaconda3\\lib\\site-packages\\sklearn\\discriminant_analysis.py:388: UserWarning: Variables are collinear.\n",
      "  warnings.warn(\"Variables are collinear.\")\n",
      "C:\\Users\\Emma Jane\\Anaconda3\\lib\\site-packages\\sklearn\\discriminant_analysis.py:388: UserWarning: Variables are collinear.\n",
      "  warnings.warn(\"Variables are collinear.\")\n",
      "C:\\Users\\Emma Jane\\Anaconda3\\lib\\site-packages\\sklearn\\discriminant_analysis.py:388: UserWarning: Variables are collinear.\n",
      "  warnings.warn(\"Variables are collinear.\")\n",
      "C:\\Users\\Emma Jane\\Anaconda3\\lib\\site-packages\\sklearn\\discriminant_analysis.py:388: UserWarning: Variables are collinear.\n",
      "  warnings.warn(\"Variables are collinear.\")\n"
     ]
    },
    {
     "name": "stdout",
     "output_type": "stream",
     "text": [
      "LDA: 0.925000 (0.078617)\n",
      "KNN: 0.800000 (0.076376)\n",
      "CART: 0.883333 (0.055277)\n",
      "NB: 0.866667 (0.092796)\n",
      "SVM: 0.783333 (0.113039)\n"
     ]
    }
   ],
   "source": [
    "# create an array to house each model\n",
    "models = []\n",
    "models.append(('LR', LogisticRegression(solver='liblinear', multi_class='ovr')))\n",
    "models.append(('LDA', LinearDiscriminantAnalysis()))\n",
    "models.append(('KNN', KNeighborsClassifier()))\n",
    "models.append(('CART', DecisionTreeClassifier(random_state = seed)))\n",
    "models.append(('NB', GaussianNB()))\n",
    "models.append(('SVM', SVC(gamma='auto')))\n",
    "\n",
    "# create an array to house the accuracy estimations for each model\n",
    "results = []\n",
    "names = []\n",
    "for name, model in models:\n",
    "    # create ten folds\n",
    "    kfold = model_selection.KFold(n_splits=10, random_state = seed)\n",
    "    cv_results = model_selection.cross_val_score(model, X_train, Y_train, cv=kfold, scoring=scoring)\n",
    "    results.append(cv_results)\n",
    "    names.append(name)\n",
    "    msg = \"%s: %f (%f)\" % (name, cv_results.mean(), cv_results.std())\n",
    "    print(msg)\n",
    "    "
   ]
  },
  {
   "cell_type": "markdown",
   "metadata": {},
   "source": [
    "### AML Models in Order of Descending Accuracy (from \"Bioinformatics Final Project_AML_EBL.ipynb\": \n",
    "CART (94.0%), LR (83.9%), LDA (81.9%), NB (77.8%), KNN (53.8%), SVM (53%)\n",
    "\n",
    "### NBL Models in Order of Descending Accuracy (from this notebook):\n",
    "LR(94.2%), LDA (92.5%), CART (88.3%), NB(86.7%), KNN (80.0%), SVM (78.3%)\n",
    "\n",
    "### WT Models in Order of Descendign Accuracy (from \"Bioinformatics Final Project_WT_EBL.ipynb\"):\n",
    "LR (43.0%), NB(41.9%), KNN(39.2%), LDA (37.4%), CART (31.7%), SVM (28.6%)"
   ]
  },
  {
   "cell_type": "code",
   "execution_count": null,
   "metadata": {},
   "outputs": [],
   "source": []
  }
 ],
 "metadata": {
  "kernelspec": {
   "display_name": "Python 3",
   "language": "python",
   "name": "python3"
  },
  "language_info": {
   "codemirror_mode": {
    "name": "ipython",
    "version": 3
   },
   "file_extension": ".py",
   "mimetype": "text/x-python",
   "name": "python",
   "nbconvert_exporter": "python",
   "pygments_lexer": "ipython3",
   "version": "3.6.3"
  }
 },
 "nbformat": 4,
 "nbformat_minor": 2
}
