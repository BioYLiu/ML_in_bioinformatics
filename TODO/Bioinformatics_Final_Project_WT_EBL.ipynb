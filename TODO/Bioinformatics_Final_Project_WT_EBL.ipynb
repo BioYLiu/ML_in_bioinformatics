{
 "cells": [
  {
   "cell_type": "code",
   "execution_count": 1,
   "metadata": {},
   "outputs": [],
   "source": [
    "import pandas as pd\n",
    "import matplotlib.pyplot as plt\n",
    "import numpy as np\n",
    "from sklearn import model_selection\n",
    "from sklearn.metrics import classification_report\n",
    "from sklearn.metrics import confusion_matrix\n",
    "from sklearn.metrics import accuracy_score\n",
    "from sklearn.linear_model import LogisticRegression\n",
    "from sklearn.tree import DecisionTreeClassifier\n",
    "from sklearn.neighbors import KNeighborsClassifier\n",
    "from sklearn.discriminant_analysis import LinearDiscriminantAnalysis\n",
    "from sklearn.naive_bayes import GaussianNB\n",
    "from sklearn.svm import SVC"
   ]
  },
  {
   "cell_type": "code",
   "execution_count": 2,
   "metadata": {},
   "outputs": [
    {
     "name": "stderr",
     "output_type": "stream",
     "text": [
      "C:\\Users\\Emma Jane\\Anaconda3\\lib\\site-packages\\IPython\\core\\interactiveshell.py:2698: DtypeWarning: Columns (19) have mixed types. Specify dtype option on import or set low_memory=False.\n",
      "  interactivity=interactivity, compiler=compiler, result=result)\n"
     ]
    }
   ],
   "source": [
    "# read data file\n",
    "WT_data = pd.read_csv(\"WT_assay_clinical.csv\")\n",
    "# replace unknown values with NaN converted to np.float\n",
    "WT_data = WT_data.replace('Unknown', np.float('nan'))\n",
    "# create an array of columns whose data should be irrelevant to prediction\n",
    "columns = ['Comment ', 'Discovery or Validation', 'updated_datetime', 'file_name', 'submitter_id', 'file_id',\n",
    "           'file_size', 'id', 'created_datetime', 'md5sum', 'data_format', 'access', 'state', 'data_category',\n",
    "           'experimental_strategy', 'project.project_id', 'entity_id', 'case_id', 'entity_submitter_id']\n",
    "# drop the columns in that array from the dataframe\n",
    "WT_data.drop(columns, inplace=True, axis=1)"
   ]
  },
  {
   "cell_type": "code",
   "execution_count": 3,
   "metadata": {},
   "outputs": [
    {
     "data": {
      "text/html": [
       "<div>\n",
       "<style>\n",
       "    .dataframe thead tr:only-child th {\n",
       "        text-align: right;\n",
       "    }\n",
       "\n",
       "    .dataframe thead th {\n",
       "        text-align: left;\n",
       "    }\n",
       "\n",
       "    .dataframe tbody tr th {\n",
       "        vertical-align: top;\n",
       "    }\n",
       "</style>\n",
       "<table border=\"1\" class=\"dataframe\">\n",
       "  <thead>\n",
       "    <tr style=\"text-align: right;\">\n",
       "      <th></th>\n",
       "      <th>Unnamed: 0</th>\n",
       "      <th>TARGET USI</th>\n",
       "      <th>Diagnostic ID</th>\n",
       "      <th>Gender</th>\n",
       "      <th>Race</th>\n",
       "      <th>Ethnicity</th>\n",
       "      <th>Age at Diagnosis in Days</th>\n",
       "      <th>First Event</th>\n",
       "      <th>Event Free Survival Time in Days</th>\n",
       "      <th>Vital Status</th>\n",
       "      <th>...</th>\n",
       "      <th>ENSG00000281649.1</th>\n",
       "      <th>ENSG00000281691.1</th>\n",
       "      <th>ENSG00000281706.1</th>\n",
       "      <th>ENSG00000281741.1</th>\n",
       "      <th>ENSG00000281789.1</th>\n",
       "      <th>ENSG00000281896.1</th>\n",
       "      <th>ENSG00000281912.1</th>\n",
       "      <th>__no_feature</th>\n",
       "      <th>__ambiguous</th>\n",
       "      <th>__alignment_not_unique</th>\n",
       "    </tr>\n",
       "  </thead>\n",
       "  <tbody>\n",
       "    <tr>\n",
       "      <th>0</th>\n",
       "      <td>0</td>\n",
       "      <td>TARGET-50-CAAAAC</td>\n",
       "      <td>01A</td>\n",
       "      <td>Female</td>\n",
       "      <td>White</td>\n",
       "      <td>Not Hispanic or Latino</td>\n",
       "      <td>2244</td>\n",
       "      <td>Relapse</td>\n",
       "      <td>1184</td>\n",
       "      <td>DEAD</td>\n",
       "      <td>...</td>\n",
       "      <td>4.775164</td>\n",
       "      <td>-2.141151</td>\n",
       "      <td>-1.167538</td>\n",
       "      <td>-4.218016</td>\n",
       "      <td>-0.495778</td>\n",
       "      <td>-0.533300</td>\n",
       "      <td>-2.029702</td>\n",
       "      <td>16.04047</td>\n",
       "      <td>14.33014</td>\n",
       "      <td>17.94722</td>\n",
       "    </tr>\n",
       "    <tr>\n",
       "      <th>1</th>\n",
       "      <td>1</td>\n",
       "      <td>TARGET-50-CAAAAH</td>\n",
       "      <td>01A</td>\n",
       "      <td>Female</td>\n",
       "      <td>White</td>\n",
       "      <td>Not reported</td>\n",
       "      <td>1710</td>\n",
       "      <td>Relapse</td>\n",
       "      <td>165</td>\n",
       "      <td>DEAD</td>\n",
       "      <td>...</td>\n",
       "      <td>4.756811</td>\n",
       "      <td>-2.772979</td>\n",
       "      <td>-1.340607</td>\n",
       "      <td>-0.322102</td>\n",
       "      <td>-1.011248</td>\n",
       "      <td>-3.610656</td>\n",
       "      <td>-2.523513</td>\n",
       "      <td>15.91781</td>\n",
       "      <td>15.09286</td>\n",
       "      <td>18.31959</td>\n",
       "    </tr>\n",
       "    <tr>\n",
       "      <th>2</th>\n",
       "      <td>2</td>\n",
       "      <td>TARGET-50-CAAAAJ</td>\n",
       "      <td>01A</td>\n",
       "      <td>Female</td>\n",
       "      <td>White</td>\n",
       "      <td>Not Hispanic or Latino</td>\n",
       "      <td>401</td>\n",
       "      <td>Relapse</td>\n",
       "      <td>169</td>\n",
       "      <td>ALIVE</td>\n",
       "      <td>...</td>\n",
       "      <td>4.862147</td>\n",
       "      <td>-2.544237</td>\n",
       "      <td>-5.998956</td>\n",
       "      <td>-5.438748</td>\n",
       "      <td>-1.371110</td>\n",
       "      <td>-0.943032</td>\n",
       "      <td>-0.862982</td>\n",
       "      <td>15.61571</td>\n",
       "      <td>14.65771</td>\n",
       "      <td>17.50719</td>\n",
       "    </tr>\n",
       "    <tr>\n",
       "      <th>3</th>\n",
       "      <td>3</td>\n",
       "      <td>TARGET-50-CAAAAL</td>\n",
       "      <td>01A</td>\n",
       "      <td>Female</td>\n",
       "      <td>Black or African American</td>\n",
       "      <td>Not Hispanic or Latino</td>\n",
       "      <td>1599</td>\n",
       "      <td>Relapse</td>\n",
       "      <td>221</td>\n",
       "      <td>ALIVE</td>\n",
       "      <td>...</td>\n",
       "      <td>5.093780</td>\n",
       "      <td>-1.532450</td>\n",
       "      <td>-5.363655</td>\n",
       "      <td>-3.050407</td>\n",
       "      <td>-2.257779</td>\n",
       "      <td>-0.584042</td>\n",
       "      <td>-0.711118</td>\n",
       "      <td>15.29275</td>\n",
       "      <td>14.57354</td>\n",
       "      <td>17.69767</td>\n",
       "    </tr>\n",
       "    <tr>\n",
       "      <th>4</th>\n",
       "      <td>4</td>\n",
       "      <td>TARGET-50-CAAAAM</td>\n",
       "      <td>01A</td>\n",
       "      <td>Female</td>\n",
       "      <td>White</td>\n",
       "      <td>Not Hispanic or Latino</td>\n",
       "      <td>2750</td>\n",
       "      <td>None</td>\n",
       "      <td>3260</td>\n",
       "      <td>ALIVE</td>\n",
       "      <td>...</td>\n",
       "      <td>4.869119</td>\n",
       "      <td>-3.374885</td>\n",
       "      <td>-0.428489</td>\n",
       "      <td>-4.398735</td>\n",
       "      <td>-1.927109</td>\n",
       "      <td>-1.470202</td>\n",
       "      <td>-1.874332</td>\n",
       "      <td>15.78805</td>\n",
       "      <td>14.97145</td>\n",
       "      <td>17.81240</td>\n",
       "    </tr>\n",
       "  </tbody>\n",
       "</table>\n",
       "<p>5 rows × 21429 columns</p>\n",
       "</div>"
      ],
      "text/plain": [
       "   Unnamed: 0        TARGET USI Diagnostic ID  Gender  \\\n",
       "0           0  TARGET-50-CAAAAC           01A  Female   \n",
       "1           1  TARGET-50-CAAAAH           01A  Female   \n",
       "2           2  TARGET-50-CAAAAJ           01A  Female   \n",
       "3           3  TARGET-50-CAAAAL           01A  Female   \n",
       "4           4  TARGET-50-CAAAAM           01A  Female   \n",
       "\n",
       "                        Race               Ethnicity  \\\n",
       "0                      White  Not Hispanic or Latino   \n",
       "1                      White            Not reported   \n",
       "2                      White  Not Hispanic or Latino   \n",
       "3  Black or African American  Not Hispanic or Latino   \n",
       "4                      White  Not Hispanic or Latino   \n",
       "\n",
       "   Age at Diagnosis in Days First Event  Event Free Survival Time in Days  \\\n",
       "0                      2244     Relapse                              1184   \n",
       "1                      1710     Relapse                               165   \n",
       "2                       401     Relapse                               169   \n",
       "3                      1599     Relapse                               221   \n",
       "4                      2750        None                              3260   \n",
       "\n",
       "  Vital Status          ...            ENSG00000281649.1  ENSG00000281691.1  \\\n",
       "0         DEAD          ...                     4.775164          -2.141151   \n",
       "1         DEAD          ...                     4.756811          -2.772979   \n",
       "2        ALIVE          ...                     4.862147          -2.544237   \n",
       "3        ALIVE          ...                     5.093780          -1.532450   \n",
       "4        ALIVE          ...                     4.869119          -3.374885   \n",
       "\n",
       "   ENSG00000281706.1 ENSG00000281741.1 ENSG00000281789.1 ENSG00000281896.1  \\\n",
       "0          -1.167538         -4.218016         -0.495778         -0.533300   \n",
       "1          -1.340607         -0.322102         -1.011248         -3.610656   \n",
       "2          -5.998956         -5.438748         -1.371110         -0.943032   \n",
       "3          -5.363655         -3.050407         -2.257779         -0.584042   \n",
       "4          -0.428489         -4.398735         -1.927109         -1.470202   \n",
       "\n",
       "  ENSG00000281912.1 __no_feature __ambiguous __alignment_not_unique  \n",
       "0         -2.029702     16.04047    14.33014               17.94722  \n",
       "1         -2.523513     15.91781    15.09286               18.31959  \n",
       "2         -0.862982     15.61571    14.65771               17.50719  \n",
       "3         -0.711118     15.29275    14.57354               17.69767  \n",
       "4         -1.874332     15.78805    14.97145               17.81240  \n",
       "\n",
       "[5 rows x 21429 columns]"
      ]
     },
     "execution_count": 3,
     "metadata": {},
     "output_type": "execute_result"
    }
   ],
   "source": [
    "#display the first five rows of the WT_data\n",
    "WT_data.head()"
   ]
  },
  {
   "cell_type": "code",
   "execution_count": 4,
   "metadata": {},
   "outputs": [
    {
     "data": {
      "text/plain": [
       "(132, 21429)"
      ]
     },
     "execution_count": 4,
     "metadata": {},
     "output_type": "execute_result"
    }
   ],
   "source": [
    "# show dimensions of WT_data\n",
    "WT_data.shape"
   ]
  },
  {
   "cell_type": "code",
   "execution_count": 5,
   "metadata": {},
   "outputs": [],
   "source": [
    "# get a list of the columns in WT_data whose data type is 'object'\n",
    "object_data = WT_data.describe(include=['object'])\n",
    "cols = list(object_data)"
   ]
  },
  {
   "cell_type": "code",
   "execution_count": 6,
   "metadata": {},
   "outputs": [
    {
     "data": {
      "text/html": [
       "<div>\n",
       "<style>\n",
       "    .dataframe thead tr:only-child th {\n",
       "        text-align: right;\n",
       "    }\n",
       "\n",
       "    .dataframe thead th {\n",
       "        text-align: left;\n",
       "    }\n",
       "\n",
       "    .dataframe tbody tr th {\n",
       "        vertical-align: top;\n",
       "    }\n",
       "</style>\n",
       "<table border=\"1\" class=\"dataframe\">\n",
       "  <thead>\n",
       "    <tr style=\"text-align: right;\">\n",
       "      <th></th>\n",
       "      <th>Unnamed: 0</th>\n",
       "      <th>TARGET USI</th>\n",
       "      <th>Diagnostic ID</th>\n",
       "      <th>Gender</th>\n",
       "      <th>Race</th>\n",
       "      <th>Ethnicity</th>\n",
       "      <th>Age at Diagnosis in Days</th>\n",
       "      <th>First Event</th>\n",
       "      <th>Event Free Survival Time in Days</th>\n",
       "      <th>Vital Status</th>\n",
       "      <th>...</th>\n",
       "      <th>ENSG00000281649.1</th>\n",
       "      <th>ENSG00000281691.1</th>\n",
       "      <th>ENSG00000281706.1</th>\n",
       "      <th>ENSG00000281741.1</th>\n",
       "      <th>ENSG00000281789.1</th>\n",
       "      <th>ENSG00000281896.1</th>\n",
       "      <th>ENSG00000281912.1</th>\n",
       "      <th>__no_feature</th>\n",
       "      <th>__ambiguous</th>\n",
       "      <th>__alignment_not_unique</th>\n",
       "    </tr>\n",
       "  </thead>\n",
       "  <tbody>\n",
       "    <tr>\n",
       "      <th>0</th>\n",
       "      <td>0</td>\n",
       "      <td>0</td>\n",
       "      <td>0</td>\n",
       "      <td>0</td>\n",
       "      <td>3</td>\n",
       "      <td>1</td>\n",
       "      <td>2244</td>\n",
       "      <td>2</td>\n",
       "      <td>1184</td>\n",
       "      <td>1</td>\n",
       "      <td>...</td>\n",
       "      <td>4.775164</td>\n",
       "      <td>-2.141151</td>\n",
       "      <td>-1.167538</td>\n",
       "      <td>-4.218016</td>\n",
       "      <td>-0.495778</td>\n",
       "      <td>-0.533300</td>\n",
       "      <td>-2.029702</td>\n",
       "      <td>16.04047</td>\n",
       "      <td>14.33014</td>\n",
       "      <td>17.94722</td>\n",
       "    </tr>\n",
       "    <tr>\n",
       "      <th>1</th>\n",
       "      <td>1</td>\n",
       "      <td>1</td>\n",
       "      <td>0</td>\n",
       "      <td>0</td>\n",
       "      <td>3</td>\n",
       "      <td>2</td>\n",
       "      <td>1710</td>\n",
       "      <td>2</td>\n",
       "      <td>165</td>\n",
       "      <td>1</td>\n",
       "      <td>...</td>\n",
       "      <td>4.756811</td>\n",
       "      <td>-2.772979</td>\n",
       "      <td>-1.340607</td>\n",
       "      <td>-0.322102</td>\n",
       "      <td>-1.011248</td>\n",
       "      <td>-3.610656</td>\n",
       "      <td>-2.523513</td>\n",
       "      <td>15.91781</td>\n",
       "      <td>15.09286</td>\n",
       "      <td>18.31959</td>\n",
       "    </tr>\n",
       "    <tr>\n",
       "      <th>2</th>\n",
       "      <td>2</td>\n",
       "      <td>2</td>\n",
       "      <td>0</td>\n",
       "      <td>0</td>\n",
       "      <td>3</td>\n",
       "      <td>1</td>\n",
       "      <td>401</td>\n",
       "      <td>2</td>\n",
       "      <td>169</td>\n",
       "      <td>0</td>\n",
       "      <td>...</td>\n",
       "      <td>4.862147</td>\n",
       "      <td>-2.544237</td>\n",
       "      <td>-5.998956</td>\n",
       "      <td>-5.438748</td>\n",
       "      <td>-1.371110</td>\n",
       "      <td>-0.943032</td>\n",
       "      <td>-0.862982</td>\n",
       "      <td>15.61571</td>\n",
       "      <td>14.65771</td>\n",
       "      <td>17.50719</td>\n",
       "    </tr>\n",
       "    <tr>\n",
       "      <th>3</th>\n",
       "      <td>3</td>\n",
       "      <td>3</td>\n",
       "      <td>0</td>\n",
       "      <td>0</td>\n",
       "      <td>0</td>\n",
       "      <td>1</td>\n",
       "      <td>1599</td>\n",
       "      <td>2</td>\n",
       "      <td>221</td>\n",
       "      <td>0</td>\n",
       "      <td>...</td>\n",
       "      <td>5.093780</td>\n",
       "      <td>-1.532450</td>\n",
       "      <td>-5.363655</td>\n",
       "      <td>-3.050407</td>\n",
       "      <td>-2.257779</td>\n",
       "      <td>-0.584042</td>\n",
       "      <td>-0.711118</td>\n",
       "      <td>15.29275</td>\n",
       "      <td>14.57354</td>\n",
       "      <td>17.69767</td>\n",
       "    </tr>\n",
       "    <tr>\n",
       "      <th>4</th>\n",
       "      <td>4</td>\n",
       "      <td>4</td>\n",
       "      <td>0</td>\n",
       "      <td>0</td>\n",
       "      <td>3</td>\n",
       "      <td>1</td>\n",
       "      <td>2750</td>\n",
       "      <td>0</td>\n",
       "      <td>3260</td>\n",
       "      <td>0</td>\n",
       "      <td>...</td>\n",
       "      <td>4.869119</td>\n",
       "      <td>-3.374885</td>\n",
       "      <td>-0.428489</td>\n",
       "      <td>-4.398735</td>\n",
       "      <td>-1.927109</td>\n",
       "      <td>-1.470202</td>\n",
       "      <td>-1.874332</td>\n",
       "      <td>15.78805</td>\n",
       "      <td>14.97145</td>\n",
       "      <td>17.81240</td>\n",
       "    </tr>\n",
       "  </tbody>\n",
       "</table>\n",
       "<p>5 rows × 21429 columns</p>\n",
       "</div>"
      ],
      "text/plain": [
       "   Unnamed: 0  TARGET USI  Diagnostic ID  Gender  Race  Ethnicity  \\\n",
       "0           0           0              0       0     3          1   \n",
       "1           1           1              0       0     3          2   \n",
       "2           2           2              0       0     3          1   \n",
       "3           3           3              0       0     0          1   \n",
       "4           4           4              0       0     3          1   \n",
       "\n",
       "   Age at Diagnosis in Days  First Event  Event Free Survival Time in Days  \\\n",
       "0                      2244            2                              1184   \n",
       "1                      1710            2                               165   \n",
       "2                       401            2                               169   \n",
       "3                      1599            2                               221   \n",
       "4                      2750            0                              3260   \n",
       "\n",
       "   Vital Status           ...            ENSG00000281649.1  ENSG00000281691.1  \\\n",
       "0             1           ...                     4.775164          -2.141151   \n",
       "1             1           ...                     4.756811          -2.772979   \n",
       "2             0           ...                     4.862147          -2.544237   \n",
       "3             0           ...                     5.093780          -1.532450   \n",
       "4             0           ...                     4.869119          -3.374885   \n",
       "\n",
       "   ENSG00000281706.1  ENSG00000281741.1  ENSG00000281789.1  ENSG00000281896.1  \\\n",
       "0          -1.167538          -4.218016          -0.495778          -0.533300   \n",
       "1          -1.340607          -0.322102          -1.011248          -3.610656   \n",
       "2          -5.998956          -5.438748          -1.371110          -0.943032   \n",
       "3          -5.363655          -3.050407          -2.257779          -0.584042   \n",
       "4          -0.428489          -4.398735          -1.927109          -1.470202   \n",
       "\n",
       "   ENSG00000281912.1  __no_feature  __ambiguous  __alignment_not_unique  \n",
       "0          -2.029702      16.04047     14.33014                17.94722  \n",
       "1          -2.523513      15.91781     15.09286                18.31959  \n",
       "2          -0.862982      15.61571     14.65771                17.50719  \n",
       "3          -0.711118      15.29275     14.57354                17.69767  \n",
       "4          -1.874332      15.78805     14.97145                17.81240  \n",
       "\n",
       "[5 rows x 21429 columns]"
      ]
     },
     "execution_count": 6,
     "metadata": {},
     "output_type": "execute_result"
    }
   ],
   "source": [
    "# for each column in the list of object columns, create numerical substitutions for each variable category\n",
    "for col in cols:\n",
    "    WT_data[col] = WT_data[col].astype('category').cat.codes\n",
    "# display first five rows\n",
    "WT_data.head()"
   ]
  },
  {
   "cell_type": "code",
   "execution_count": 7,
   "metadata": {},
   "outputs": [
    {
     "data": {
      "text/plain": [
       "(132, 21429)"
      ]
     },
     "execution_count": 7,
     "metadata": {},
     "output_type": "execute_result"
    }
   ],
   "source": [
    "# display dimensions of WT_data dataframe\n",
    "WT_data.shape"
   ]
  },
  {
   "cell_type": "code",
   "execution_count": 8,
   "metadata": {},
   "outputs": [
    {
     "name": "stdout",
     "output_type": "stream",
     "text": [
      "Stage\n",
      "0    16\n",
      "1    55\n",
      "2    40\n",
      "3     4\n",
      "4     1\n",
      "5    15\n",
      "6     1\n",
      "dtype: int64\n"
     ]
    }
   ],
   "source": [
    "\n",
    "print(WT_data.groupby('Stage').size())"
   ]
  },
  {
   "cell_type": "code",
   "execution_count": 9,
   "metadata": {},
   "outputs": [],
   "source": [
    "# move Stage Group (the column to be predicted) to be the last column in the data frame\n",
    "stageGroup_column = WT_data.pop('Stage')\n",
    "WT_data['Stage'] = stageGroup_column"
   ]
  },
  {
   "cell_type": "code",
   "execution_count": 10,
   "metadata": {},
   "outputs": [],
   "source": [
    "scoring = 'accuracy'"
   ]
  },
  {
   "cell_type": "code",
   "execution_count": 11,
   "metadata": {},
   "outputs": [
    {
     "data": {
      "text/plain": [
       "False"
      ]
     },
     "execution_count": 11,
     "metadata": {},
     "output_type": "execute_result"
    }
   ],
   "source": [
    "np.any(np.isnan(WT_data))"
   ]
  },
  {
   "cell_type": "code",
   "execution_count": 12,
   "metadata": {},
   "outputs": [],
   "source": [
    "WT_data=WT_data.fillna(-1)"
   ]
  },
  {
   "cell_type": "code",
   "execution_count": 13,
   "metadata": {},
   "outputs": [
    {
     "data": {
      "text/plain": [
       "False"
      ]
     },
     "execution_count": 13,
     "metadata": {},
     "output_type": "execute_result"
    }
   ],
   "source": [
    "np.any(np.isnan(WT_data))"
   ]
  },
  {
   "cell_type": "code",
   "execution_count": 14,
   "metadata": {},
   "outputs": [],
   "source": [
    "WT_data = WT_data.apply(pd.to_numeric)"
   ]
  },
  {
   "cell_type": "code",
   "execution_count": 17,
   "metadata": {},
   "outputs": [],
   "source": [
    "# separate out validation data set\n",
    "WT_array = WT_data.values\n",
    "X = WT_array[:,0:21428]\n",
    "Y = WT_array[:,21428]\n",
    "validation_size=0.20\n",
    "seed = 42\n",
    "X_train, X_validation, Y_train, Y_validation = model_selection.train_test_split(X, Y, test_size=validation_size, random_state=seed)"
   ]
  },
  {
   "cell_type": "code",
   "execution_count": 18,
   "metadata": {},
   "outputs": [
    {
     "name": "stdout",
     "output_type": "stream",
     "text": [
      "LR: 0.430000 (0.115569)\n"
     ]
    },
    {
     "name": "stderr",
     "output_type": "stream",
     "text": [
      "C:\\Users\\Emma Jane\\Anaconda3\\lib\\site-packages\\sklearn\\discriminant_analysis.py:388: UserWarning: Variables are collinear.\n",
      "  warnings.warn(\"Variables are collinear.\")\n",
      "C:\\Users\\Emma Jane\\Anaconda3\\lib\\site-packages\\sklearn\\discriminant_analysis.py:442: UserWarning: The priors do not sum to 1. Renormalizing\n",
      "  UserWarning)\n",
      "C:\\Users\\Emma Jane\\Anaconda3\\lib\\site-packages\\sklearn\\discriminant_analysis.py:388: UserWarning: Variables are collinear.\n",
      "  warnings.warn(\"Variables are collinear.\")\n",
      "C:\\Users\\Emma Jane\\Anaconda3\\lib\\site-packages\\sklearn\\discriminant_analysis.py:442: UserWarning: The priors do not sum to 1. Renormalizing\n",
      "  UserWarning)\n",
      "C:\\Users\\Emma Jane\\Anaconda3\\lib\\site-packages\\sklearn\\discriminant_analysis.py:388: UserWarning: Variables are collinear.\n",
      "  warnings.warn(\"Variables are collinear.\")\n",
      "C:\\Users\\Emma Jane\\Anaconda3\\lib\\site-packages\\sklearn\\discriminant_analysis.py:442: UserWarning: The priors do not sum to 1. Renormalizing\n",
      "  UserWarning)\n",
      "C:\\Users\\Emma Jane\\Anaconda3\\lib\\site-packages\\sklearn\\discriminant_analysis.py:388: UserWarning: Variables are collinear.\n",
      "  warnings.warn(\"Variables are collinear.\")\n",
      "C:\\Users\\Emma Jane\\Anaconda3\\lib\\site-packages\\sklearn\\discriminant_analysis.py:442: UserWarning: The priors do not sum to 1. Renormalizing\n",
      "  UserWarning)\n",
      "C:\\Users\\Emma Jane\\Anaconda3\\lib\\site-packages\\sklearn\\discriminant_analysis.py:388: UserWarning: Variables are collinear.\n",
      "  warnings.warn(\"Variables are collinear.\")\n",
      "C:\\Users\\Emma Jane\\Anaconda3\\lib\\site-packages\\sklearn\\discriminant_analysis.py:388: UserWarning: Variables are collinear.\n",
      "  warnings.warn(\"Variables are collinear.\")\n",
      "C:\\Users\\Emma Jane\\Anaconda3\\lib\\site-packages\\sklearn\\discriminant_analysis.py:388: UserWarning: Variables are collinear.\n",
      "  warnings.warn(\"Variables are collinear.\")\n",
      "C:\\Users\\Emma Jane\\Anaconda3\\lib\\site-packages\\sklearn\\discriminant_analysis.py:388: UserWarning: Variables are collinear.\n",
      "  warnings.warn(\"Variables are collinear.\")\n",
      "C:\\Users\\Emma Jane\\Anaconda3\\lib\\site-packages\\sklearn\\discriminant_analysis.py:388: UserWarning: Variables are collinear.\n",
      "  warnings.warn(\"Variables are collinear.\")\n",
      "C:\\Users\\Emma Jane\\Anaconda3\\lib\\site-packages\\sklearn\\discriminant_analysis.py:388: UserWarning: Variables are collinear.\n",
      "  warnings.warn(\"Variables are collinear.\")\n"
     ]
    },
    {
     "name": "stdout",
     "output_type": "stream",
     "text": [
      "LDA: 0.373636 (0.138734)\n",
      "KNN: 0.391818 (0.101024)\n",
      "CART: 0.317273 (0.122673)\n",
      "NB: 0.419091 (0.122539)\n",
      "SVM: 0.286364 (0.093795)\n"
     ]
    }
   ],
   "source": [
    "# create an array to house each model\n",
    "models = []\n",
    "models.append(('LR', LogisticRegression(solver='liblinear', multi_class='ovr')))\n",
    "models.append(('LDA', LinearDiscriminantAnalysis()))\n",
    "models.append(('KNN', KNeighborsClassifier()))\n",
    "models.append(('CART', DecisionTreeClassifier(random_state = seed)))\n",
    "models.append(('NB', GaussianNB()))\n",
    "models.append(('SVM', SVC(gamma='auto')))\n",
    "\n",
    "# create an array to house the accuracy estimations for each model\n",
    "results = []\n",
    "names = []\n",
    "for name, model in models:\n",
    "    # create ten folds\n",
    "    kfold = model_selection.KFold(n_splits=10, random_state = seed)\n",
    "    cv_results = model_selection.cross_val_score(model, X_train, Y_train, cv=kfold, scoring=scoring)\n",
    "    results.append(cv_results)\n",
    "    names.append(name)\n",
    "    msg = \"%s: %f (%f)\" % (name, cv_results.mean(), cv_results.std())\n",
    "    print(msg)\n",
    "    "
   ]
  },
  {
   "cell_type": "markdown",
   "metadata": {},
   "source": [
    "### AML Models in Order of Descending Accuracy (from \"Bioinformatics Final Project_AML_EBL.ipynb\"): \n",
    "CART (94.0%), LR (83.9%), LDA (81.9%), NB (77.8%), KNN (53.8%), SVM (53.0%)\n",
    "\n",
    "### NBL Models in Order of Descending Accuracy (from \"Bioinformatics Final Project_NBL_EBL.ipynb\"):\n",
    "LR (94.2%), LDA (92.5%), CART (88.3%), NB(86.7%), KNN (80.0%), SVM (78.3%)\n",
    "\n",
    "### WT Models in Order of Descendign Accuracy (from this notebook):\n",
    "LR (43.0%), NB(41.9%), KNN(39.2%), LDA (37.4%), CART (31.7%), SVM (28.6%)"
   ]
  },
  {
   "cell_type": "code",
   "execution_count": null,
   "metadata": {},
   "outputs": [],
   "source": []
  }
 ],
 "metadata": {
  "kernelspec": {
   "display_name": "Python 3",
   "language": "python",
   "name": "python3"
  },
  "language_info": {
   "codemirror_mode": {
    "name": "ipython",
    "version": 3
   },
   "file_extension": ".py",
   "mimetype": "text/x-python",
   "name": "python",
   "nbconvert_exporter": "python",
   "pygments_lexer": "ipython3",
   "version": "3.6.3"
  }
 },
 "nbformat": 4,
 "nbformat_minor": 2
}
